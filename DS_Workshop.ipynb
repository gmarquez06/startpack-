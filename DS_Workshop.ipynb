{
  "nbformat": 4,
  "nbformat_minor": 0,
  "metadata": {
    "colab": {
      "name": "DS Workshop.ipynb",
      "provenance": [],
      "authorship_tag": "ABX9TyPam6FqCQTm3lpHnZJw1kul",
      "include_colab_link": true
    },
    "kernelspec": {
      "name": "python3",
      "display_name": "Python 3"
    }
  },
  "cells": [
    {
      "cell_type": "markdown",
      "metadata": {
        "id": "view-in-github",
        "colab_type": "text"
      },
      "source": [
        "<a href=\"https://colab.research.google.com/github/gmarquez06/startpack-/blob/master/DS_Workshop.ipynb\" target=\"_parent\"><img src=\"https://colab.research.google.com/assets/colab-badge.svg\" alt=\"Open In Colab\"/></a>"
      ]
    },
    {
      "cell_type": "code",
      "metadata": {
        "id": "rr7WCMUAl1rb",
        "colab_type": "code",
        "colab": {}
      },
      "source": [
        "import numpy as np #Make mathematical operations & array processing faster\n",
        "import pandas as pd #Used for data science processes for easy indexing and manipulation\n"
      ],
      "execution_count": 2,
      "outputs": []
    },
    {
      "cell_type": "code",
      "metadata": {
        "id": "btWcvb5jn-HL",
        "colab_type": "code",
        "colab": {}
      },
      "source": [
        "#Lets create a dataframe and dictionary\n",
        "#We know we are creating a dictionary because we see {Key : Values}\n",
        "DATASAMPLEA = pd.DataFrame ({'Favorite Food' : ['Pizza', 'Burger', 'Steak', 'Ice Cream' ],\n",
        "                             'FavoriteBrand' : ['Gucci', 'Prada', 'HNM', 'Zara']},\n",
        "                             index=[0, 1, 2, 3]) #Organizes our table"
      ],
      "execution_count": 9,
      "outputs": []
    },
    {
      "cell_type": "code",
      "metadata": {
        "id": "HfhtTNoEp4mi",
        "colab_type": "code",
        "colab": {
          "base_uri": "https://localhost:8080/",
          "height": 173
        },
        "outputId": "bc80ee70-3878-4670-a827-5a7c77c4dd0f"
      },
      "source": [
        "DATASAMPLEA"
      ],
      "execution_count": 10,
      "outputs": [
        {
          "output_type": "execute_result",
          "data": {
            "text/html": [
              "<div>\n",
              "<style scoped>\n",
              "    .dataframe tbody tr th:only-of-type {\n",
              "        vertical-align: middle;\n",
              "    }\n",
              "\n",
              "    .dataframe tbody tr th {\n",
              "        vertical-align: top;\n",
              "    }\n",
              "\n",
              "    .dataframe thead th {\n",
              "        text-align: right;\n",
              "    }\n",
              "</style>\n",
              "<table border=\"1\" class=\"dataframe\">\n",
              "  <thead>\n",
              "    <tr style=\"text-align: right;\">\n",
              "      <th></th>\n",
              "      <th>Favorite Food</th>\n",
              "      <th>FavoriteBrand</th>\n",
              "    </tr>\n",
              "  </thead>\n",
              "  <tbody>\n",
              "    <tr>\n",
              "      <th>0</th>\n",
              "      <td>Pizza</td>\n",
              "      <td>Gucci</td>\n",
              "    </tr>\n",
              "    <tr>\n",
              "      <th>1</th>\n",
              "      <td>Burger</td>\n",
              "      <td>Prada</td>\n",
              "    </tr>\n",
              "    <tr>\n",
              "      <th>2</th>\n",
              "      <td>Steak</td>\n",
              "      <td>HNM</td>\n",
              "    </tr>\n",
              "    <tr>\n",
              "      <th>3</th>\n",
              "      <td>Ice Cream</td>\n",
              "      <td>Zara</td>\n",
              "    </tr>\n",
              "  </tbody>\n",
              "</table>\n",
              "</div>"
            ],
            "text/plain": [
              "  Favorite Food FavoriteBrand\n",
              "0         Pizza         Gucci\n",
              "1        Burger         Prada\n",
              "2         Steak           HNM\n",
              "3     Ice Cream          Zara"
            ]
          },
          "metadata": {
            "tags": []
          },
          "execution_count": 10
        }
      ]
    },
    {
      "cell_type": "code",
      "metadata": {
        "id": "_diWRNyVp-9_",
        "colab_type": "code",
        "colab": {}
      },
      "source": [
        "DATASAMPLEB = pd.DataFrame({'Favorite Movies': ['Slumdog', 'Mulan', 'Moana'], 'Favorite shoes' : ['Platform', 'Tennis', 'Sandals']}, index=[0,1,2])"
      ],
      "execution_count": 13,
      "outputs": []
    },
    {
      "cell_type": "code",
      "metadata": {
        "id": "klPUfVCEqukm",
        "colab_type": "code",
        "colab": {
          "base_uri": "https://localhost:8080/",
          "height": 142
        },
        "outputId": "178a489a-003a-4ac9-8502-357123d15fd8"
      },
      "source": [
        "DATASAMPLEB"
      ],
      "execution_count": 14,
      "outputs": [
        {
          "output_type": "execute_result",
          "data": {
            "text/html": [
              "<div>\n",
              "<style scoped>\n",
              "    .dataframe tbody tr th:only-of-type {\n",
              "        vertical-align: middle;\n",
              "    }\n",
              "\n",
              "    .dataframe tbody tr th {\n",
              "        vertical-align: top;\n",
              "    }\n",
              "\n",
              "    .dataframe thead th {\n",
              "        text-align: right;\n",
              "    }\n",
              "</style>\n",
              "<table border=\"1\" class=\"dataframe\">\n",
              "  <thead>\n",
              "    <tr style=\"text-align: right;\">\n",
              "      <th></th>\n",
              "      <th>Favorite Movies</th>\n",
              "      <th>Favorite shoes</th>\n",
              "    </tr>\n",
              "  </thead>\n",
              "  <tbody>\n",
              "    <tr>\n",
              "      <th>0</th>\n",
              "      <td>Slumdog</td>\n",
              "      <td>Platform</td>\n",
              "    </tr>\n",
              "    <tr>\n",
              "      <th>1</th>\n",
              "      <td>Mulan</td>\n",
              "      <td>Tennis</td>\n",
              "    </tr>\n",
              "    <tr>\n",
              "      <th>2</th>\n",
              "      <td>Moana</td>\n",
              "      <td>Sandals</td>\n",
              "    </tr>\n",
              "  </tbody>\n",
              "</table>\n",
              "</div>"
            ],
            "text/plain": [
              "  Favorite Movies Favorite shoes\n",
              "0         Slumdog       Platform\n",
              "1           Mulan         Tennis\n",
              "2           Moana        Sandals"
            ]
          },
          "metadata": {
            "tags": []
          },
          "execution_count": 14
        }
      ]
    },
    {
      "cell_type": "code",
      "metadata": {
        "id": "F7qAopUCq1eE",
        "colab_type": "code",
        "colab": {}
      },
      "source": [
        "#Lets combine those data sample into a list inside a new variable\n",
        "DATASAMPLES = [DATASAMPLEA, DATASAMPLEB]"
      ],
      "execution_count": 15,
      "outputs": []
    },
    {
      "cell_type": "code",
      "metadata": {
        "id": "HZKMw9LdrFa5",
        "colab_type": "code",
        "colab": {
          "base_uri": "https://localhost:8080/",
          "height": 153
        },
        "outputId": "9e495cc8-e30d-47a1-92f4-cb8bbc635c06"
      },
      "source": [
        "DATASAMPLES"
      ],
      "execution_count": 16,
      "outputs": [
        {
          "output_type": "execute_result",
          "data": {
            "text/plain": [
              "[  Favorite Food FavoriteBrand\n",
              " 0         Pizza         Gucci\n",
              " 1        Burger         Prada\n",
              " 2         Steak           HNM\n",
              " 3     Ice Cream          Zara,   Favorite Movies Favorite shoes\n",
              " 0         Slumdog       Platform\n",
              " 1           Mulan         Tennis\n",
              " 2           Moana        Sandals]"
            ]
          },
          "metadata": {
            "tags": []
          },
          "execution_count": 16
        }
      ]
    },
    {
      "cell_type": "code",
      "metadata": {
        "id": "Rvvb0T4MrMiD",
        "colab_type": "code",
        "colab": {}
      },
      "source": [
        "#Now lets combine these data sets into one table\n",
        "TOTALDATA= pd.concat(DATASAMPLES)"
      ],
      "execution_count": 17,
      "outputs": []
    },
    {
      "cell_type": "code",
      "metadata": {
        "id": "Iq4qaO-MrcIt",
        "colab_type": "code",
        "colab": {
          "base_uri": "https://localhost:8080/",
          "height": 266
        },
        "outputId": "e1664a2a-7ea9-4cb0-d5b5-aed48460c707"
      },
      "source": [
        "TOTALDATA"
      ],
      "execution_count": 18,
      "outputs": [
        {
          "output_type": "execute_result",
          "data": {
            "text/html": [
              "<div>\n",
              "<style scoped>\n",
              "    .dataframe tbody tr th:only-of-type {\n",
              "        vertical-align: middle;\n",
              "    }\n",
              "\n",
              "    .dataframe tbody tr th {\n",
              "        vertical-align: top;\n",
              "    }\n",
              "\n",
              "    .dataframe thead th {\n",
              "        text-align: right;\n",
              "    }\n",
              "</style>\n",
              "<table border=\"1\" class=\"dataframe\">\n",
              "  <thead>\n",
              "    <tr style=\"text-align: right;\">\n",
              "      <th></th>\n",
              "      <th>Favorite Food</th>\n",
              "      <th>FavoriteBrand</th>\n",
              "      <th>Favorite Movies</th>\n",
              "      <th>Favorite shoes</th>\n",
              "    </tr>\n",
              "  </thead>\n",
              "  <tbody>\n",
              "    <tr>\n",
              "      <th>0</th>\n",
              "      <td>Pizza</td>\n",
              "      <td>Gucci</td>\n",
              "      <td>NaN</td>\n",
              "      <td>NaN</td>\n",
              "    </tr>\n",
              "    <tr>\n",
              "      <th>1</th>\n",
              "      <td>Burger</td>\n",
              "      <td>Prada</td>\n",
              "      <td>NaN</td>\n",
              "      <td>NaN</td>\n",
              "    </tr>\n",
              "    <tr>\n",
              "      <th>2</th>\n",
              "      <td>Steak</td>\n",
              "      <td>HNM</td>\n",
              "      <td>NaN</td>\n",
              "      <td>NaN</td>\n",
              "    </tr>\n",
              "    <tr>\n",
              "      <th>3</th>\n",
              "      <td>Ice Cream</td>\n",
              "      <td>Zara</td>\n",
              "      <td>NaN</td>\n",
              "      <td>NaN</td>\n",
              "    </tr>\n",
              "    <tr>\n",
              "      <th>0</th>\n",
              "      <td>NaN</td>\n",
              "      <td>NaN</td>\n",
              "      <td>Slumdog</td>\n",
              "      <td>Platform</td>\n",
              "    </tr>\n",
              "    <tr>\n",
              "      <th>1</th>\n",
              "      <td>NaN</td>\n",
              "      <td>NaN</td>\n",
              "      <td>Mulan</td>\n",
              "      <td>Tennis</td>\n",
              "    </tr>\n",
              "    <tr>\n",
              "      <th>2</th>\n",
              "      <td>NaN</td>\n",
              "      <td>NaN</td>\n",
              "      <td>Moana</td>\n",
              "      <td>Sandals</td>\n",
              "    </tr>\n",
              "  </tbody>\n",
              "</table>\n",
              "</div>"
            ],
            "text/plain": [
              "  Favorite Food FavoriteBrand Favorite Movies Favorite shoes\n",
              "0         Pizza         Gucci             NaN            NaN\n",
              "1        Burger         Prada             NaN            NaN\n",
              "2         Steak           HNM             NaN            NaN\n",
              "3     Ice Cream          Zara             NaN            NaN\n",
              "0           NaN           NaN         Slumdog       Platform\n",
              "1           NaN           NaN           Mulan         Tennis\n",
              "2           NaN           NaN           Moana        Sandals"
            ]
          },
          "metadata": {
            "tags": []
          },
          "execution_count": 18
        }
      ]
    },
    {
      "cell_type": "code",
      "metadata": {
        "id": "eZqsrg6_sS_f",
        "colab_type": "code",
        "colab": {}
      },
      "source": [
        "DATASAMPLEC = pd.DataFrame({'Favorite Cars' : ['Ferrari', 'BMW', 'Audi', 'Bently']}, index=[0,1,2,3])"
      ],
      "execution_count": 19,
      "outputs": []
    },
    {
      "cell_type": "code",
      "metadata": {
        "id": "Dhiu5jEAsxT5",
        "colab_type": "code",
        "colab": {
          "base_uri": "https://localhost:8080/",
          "height": 173
        },
        "outputId": "15fb1ef6-700b-4878-9e57-8bd32ed1d88e"
      },
      "source": [
        "DATASAMPLEC"
      ],
      "execution_count": 20,
      "outputs": [
        {
          "output_type": "execute_result",
          "data": {
            "text/html": [
              "<div>\n",
              "<style scoped>\n",
              "    .dataframe tbody tr th:only-of-type {\n",
              "        vertical-align: middle;\n",
              "    }\n",
              "\n",
              "    .dataframe tbody tr th {\n",
              "        vertical-align: top;\n",
              "    }\n",
              "\n",
              "    .dataframe thead th {\n",
              "        text-align: right;\n",
              "    }\n",
              "</style>\n",
              "<table border=\"1\" class=\"dataframe\">\n",
              "  <thead>\n",
              "    <tr style=\"text-align: right;\">\n",
              "      <th></th>\n",
              "      <th>Favorite Cars</th>\n",
              "    </tr>\n",
              "  </thead>\n",
              "  <tbody>\n",
              "    <tr>\n",
              "      <th>0</th>\n",
              "      <td>Ferrari</td>\n",
              "    </tr>\n",
              "    <tr>\n",
              "      <th>1</th>\n",
              "      <td>BMW</td>\n",
              "    </tr>\n",
              "    <tr>\n",
              "      <th>2</th>\n",
              "      <td>Audi</td>\n",
              "    </tr>\n",
              "    <tr>\n",
              "      <th>3</th>\n",
              "      <td>Bently</td>\n",
              "    </tr>\n",
              "  </tbody>\n",
              "</table>\n",
              "</div>"
            ],
            "text/plain": [
              "  Favorite Cars\n",
              "0       Ferrari\n",
              "1           BMW\n",
              "2          Audi\n",
              "3        Bently"
            ]
          },
          "metadata": {
            "tags": []
          },
          "execution_count": 20
        }
      ]
    },
    {
      "cell_type": "code",
      "metadata": {
        "id": "XGW15QVtszpi",
        "colab_type": "code",
        "colab": {}
      },
      "source": [
        "DATASAMPLES = [DATASAMPLEA, DATASAMPLEB, DATASAMPLEC]"
      ],
      "execution_count": 21,
      "outputs": []
    },
    {
      "cell_type": "code",
      "metadata": {
        "id": "9XR6Dl2Ss7vH",
        "colab_type": "code",
        "colab": {}
      },
      "source": [
        "TOTALDATA= pd.concat(DATASAMPLES)"
      ],
      "execution_count": 22,
      "outputs": []
    },
    {
      "cell_type": "code",
      "metadata": {
        "id": "OdBq-pyatCLS",
        "colab_type": "code",
        "colab": {
          "base_uri": "https://localhost:8080/",
          "height": 390
        },
        "outputId": "ffcbe330-5aab-4e50-bdab-8d5fe1312780"
      },
      "source": [
        "TOTALDATA"
      ],
      "execution_count": 23,
      "outputs": [
        {
          "output_type": "execute_result",
          "data": {
            "text/html": [
              "<div>\n",
              "<style scoped>\n",
              "    .dataframe tbody tr th:only-of-type {\n",
              "        vertical-align: middle;\n",
              "    }\n",
              "\n",
              "    .dataframe tbody tr th {\n",
              "        vertical-align: top;\n",
              "    }\n",
              "\n",
              "    .dataframe thead th {\n",
              "        text-align: right;\n",
              "    }\n",
              "</style>\n",
              "<table border=\"1\" class=\"dataframe\">\n",
              "  <thead>\n",
              "    <tr style=\"text-align: right;\">\n",
              "      <th></th>\n",
              "      <th>Favorite Food</th>\n",
              "      <th>FavoriteBrand</th>\n",
              "      <th>Favorite Movies</th>\n",
              "      <th>Favorite shoes</th>\n",
              "      <th>Favorite Cars</th>\n",
              "    </tr>\n",
              "  </thead>\n",
              "  <tbody>\n",
              "    <tr>\n",
              "      <th>0</th>\n",
              "      <td>Pizza</td>\n",
              "      <td>Gucci</td>\n",
              "      <td>NaN</td>\n",
              "      <td>NaN</td>\n",
              "      <td>NaN</td>\n",
              "    </tr>\n",
              "    <tr>\n",
              "      <th>1</th>\n",
              "      <td>Burger</td>\n",
              "      <td>Prada</td>\n",
              "      <td>NaN</td>\n",
              "      <td>NaN</td>\n",
              "      <td>NaN</td>\n",
              "    </tr>\n",
              "    <tr>\n",
              "      <th>2</th>\n",
              "      <td>Steak</td>\n",
              "      <td>HNM</td>\n",
              "      <td>NaN</td>\n",
              "      <td>NaN</td>\n",
              "      <td>NaN</td>\n",
              "    </tr>\n",
              "    <tr>\n",
              "      <th>3</th>\n",
              "      <td>Ice Cream</td>\n",
              "      <td>Zara</td>\n",
              "      <td>NaN</td>\n",
              "      <td>NaN</td>\n",
              "      <td>NaN</td>\n",
              "    </tr>\n",
              "    <tr>\n",
              "      <th>0</th>\n",
              "      <td>NaN</td>\n",
              "      <td>NaN</td>\n",
              "      <td>Slumdog</td>\n",
              "      <td>Platform</td>\n",
              "      <td>NaN</td>\n",
              "    </tr>\n",
              "    <tr>\n",
              "      <th>1</th>\n",
              "      <td>NaN</td>\n",
              "      <td>NaN</td>\n",
              "      <td>Mulan</td>\n",
              "      <td>Tennis</td>\n",
              "      <td>NaN</td>\n",
              "    </tr>\n",
              "    <tr>\n",
              "      <th>2</th>\n",
              "      <td>NaN</td>\n",
              "      <td>NaN</td>\n",
              "      <td>Moana</td>\n",
              "      <td>Sandals</td>\n",
              "      <td>NaN</td>\n",
              "    </tr>\n",
              "    <tr>\n",
              "      <th>0</th>\n",
              "      <td>NaN</td>\n",
              "      <td>NaN</td>\n",
              "      <td>NaN</td>\n",
              "      <td>NaN</td>\n",
              "      <td>Ferrari</td>\n",
              "    </tr>\n",
              "    <tr>\n",
              "      <th>1</th>\n",
              "      <td>NaN</td>\n",
              "      <td>NaN</td>\n",
              "      <td>NaN</td>\n",
              "      <td>NaN</td>\n",
              "      <td>BMW</td>\n",
              "    </tr>\n",
              "    <tr>\n",
              "      <th>2</th>\n",
              "      <td>NaN</td>\n",
              "      <td>NaN</td>\n",
              "      <td>NaN</td>\n",
              "      <td>NaN</td>\n",
              "      <td>Audi</td>\n",
              "    </tr>\n",
              "    <tr>\n",
              "      <th>3</th>\n",
              "      <td>NaN</td>\n",
              "      <td>NaN</td>\n",
              "      <td>NaN</td>\n",
              "      <td>NaN</td>\n",
              "      <td>Bently</td>\n",
              "    </tr>\n",
              "  </tbody>\n",
              "</table>\n",
              "</div>"
            ],
            "text/plain": [
              "  Favorite Food FavoriteBrand Favorite Movies Favorite shoes Favorite Cars\n",
              "0         Pizza         Gucci             NaN            NaN           NaN\n",
              "1        Burger         Prada             NaN            NaN           NaN\n",
              "2         Steak           HNM             NaN            NaN           NaN\n",
              "3     Ice Cream          Zara             NaN            NaN           NaN\n",
              "0           NaN           NaN         Slumdog       Platform           NaN\n",
              "1           NaN           NaN           Mulan         Tennis           NaN\n",
              "2           NaN           NaN           Moana        Sandals           NaN\n",
              "0           NaN           NaN             NaN            NaN       Ferrari\n",
              "1           NaN           NaN             NaN            NaN           BMW\n",
              "2           NaN           NaN             NaN            NaN          Audi\n",
              "3           NaN           NaN             NaN            NaN        Bently"
            ]
          },
          "metadata": {
            "tags": []
          },
          "execution_count": 23
        }
      ]
    },
    {
      "cell_type": "code",
      "metadata": {
        "id": "WK7IIUELtFwa",
        "colab_type": "code",
        "colab": {}
      },
      "source": [
        "NEWTOTALDATA = pd.concat([DATASAMPLEA, DATASAMPLEB, DATASAMPLEC], axis=1) .reindex(DATASAMPLEA.index)"
      ],
      "execution_count": 26,
      "outputs": []
    },
    {
      "cell_type": "code",
      "metadata": {
        "id": "JIX-zdW7tv8f",
        "colab_type": "code",
        "colab": {
          "base_uri": "https://localhost:8080/",
          "height": 173
        },
        "outputId": "fd5484d0-f3dc-4ca1-8640-c7dd59c6ec05"
      },
      "source": [
        "NEWTOTALDATA"
      ],
      "execution_count": 27,
      "outputs": [
        {
          "output_type": "execute_result",
          "data": {
            "text/html": [
              "<div>\n",
              "<style scoped>\n",
              "    .dataframe tbody tr th:only-of-type {\n",
              "        vertical-align: middle;\n",
              "    }\n",
              "\n",
              "    .dataframe tbody tr th {\n",
              "        vertical-align: top;\n",
              "    }\n",
              "\n",
              "    .dataframe thead th {\n",
              "        text-align: right;\n",
              "    }\n",
              "</style>\n",
              "<table border=\"1\" class=\"dataframe\">\n",
              "  <thead>\n",
              "    <tr style=\"text-align: right;\">\n",
              "      <th></th>\n",
              "      <th>Favorite Food</th>\n",
              "      <th>FavoriteBrand</th>\n",
              "      <th>Favorite Movies</th>\n",
              "      <th>Favorite shoes</th>\n",
              "      <th>Favorite Cars</th>\n",
              "    </tr>\n",
              "  </thead>\n",
              "  <tbody>\n",
              "    <tr>\n",
              "      <th>0</th>\n",
              "      <td>Pizza</td>\n",
              "      <td>Gucci</td>\n",
              "      <td>Slumdog</td>\n",
              "      <td>Platform</td>\n",
              "      <td>Ferrari</td>\n",
              "    </tr>\n",
              "    <tr>\n",
              "      <th>1</th>\n",
              "      <td>Burger</td>\n",
              "      <td>Prada</td>\n",
              "      <td>Mulan</td>\n",
              "      <td>Tennis</td>\n",
              "      <td>BMW</td>\n",
              "    </tr>\n",
              "    <tr>\n",
              "      <th>2</th>\n",
              "      <td>Steak</td>\n",
              "      <td>HNM</td>\n",
              "      <td>Moana</td>\n",
              "      <td>Sandals</td>\n",
              "      <td>Audi</td>\n",
              "    </tr>\n",
              "    <tr>\n",
              "      <th>3</th>\n",
              "      <td>Ice Cream</td>\n",
              "      <td>Zara</td>\n",
              "      <td>NaN</td>\n",
              "      <td>NaN</td>\n",
              "      <td>Bently</td>\n",
              "    </tr>\n",
              "  </tbody>\n",
              "</table>\n",
              "</div>"
            ],
            "text/plain": [
              "  Favorite Food FavoriteBrand Favorite Movies Favorite shoes Favorite Cars\n",
              "0         Pizza         Gucci         Slumdog       Platform       Ferrari\n",
              "1        Burger         Prada           Mulan         Tennis           BMW\n",
              "2         Steak           HNM           Moana        Sandals          Audi\n",
              "3     Ice Cream          Zara             NaN            NaN        Bently"
            ]
          },
          "metadata": {
            "tags": []
          },
          "execution_count": 27
        }
      ]
    },
    {
      "cell_type": "code",
      "metadata": {
        "id": "PLObvh5vudA5",
        "colab_type": "code",
        "colab": {
          "base_uri": "https://localhost:8080/",
          "height": 34
        },
        "outputId": "94f4daba-748d-451d-d140-3548ec6cbe07"
      },
      "source": [
        "#Check for null and nan values \n",
        "NEWTOTALDATA.isnull().values.any()"
      ],
      "execution_count": 29,
      "outputs": [
        {
          "output_type": "execute_result",
          "data": {
            "text/plain": [
              "True"
            ]
          },
          "metadata": {
            "tags": []
          },
          "execution_count": 29
        }
      ]
    },
    {
      "cell_type": "code",
      "metadata": {
        "id": "0gmU0KzeuhGO",
        "colab_type": "code",
        "colab": {}
      },
      "source": [
        "NEWTOTALDATA = NEWTOTALDATA.replace('NaN','')\n"
      ],
      "execution_count": 32,
      "outputs": []
    },
    {
      "cell_type": "code",
      "metadata": {
        "id": "bpmlzljDu2jG",
        "colab_type": "code",
        "colab": {
          "base_uri": "https://localhost:8080/",
          "height": 173
        },
        "outputId": "c3437e8e-1217-4fd0-9867-22a7760cde16"
      },
      "source": [
        "NEWTOTALDATA"
      ],
      "execution_count": 33,
      "outputs": [
        {
          "output_type": "execute_result",
          "data": {
            "text/html": [
              "<div>\n",
              "<style scoped>\n",
              "    .dataframe tbody tr th:only-of-type {\n",
              "        vertical-align: middle;\n",
              "    }\n",
              "\n",
              "    .dataframe tbody tr th {\n",
              "        vertical-align: top;\n",
              "    }\n",
              "\n",
              "    .dataframe thead th {\n",
              "        text-align: right;\n",
              "    }\n",
              "</style>\n",
              "<table border=\"1\" class=\"dataframe\">\n",
              "  <thead>\n",
              "    <tr style=\"text-align: right;\">\n",
              "      <th></th>\n",
              "      <th>Favorite Food</th>\n",
              "      <th>FavoriteBrand</th>\n",
              "      <th>Favorite Movies</th>\n",
              "      <th>Favorite shoes</th>\n",
              "      <th>Favorite Cars</th>\n",
              "    </tr>\n",
              "  </thead>\n",
              "  <tbody>\n",
              "    <tr>\n",
              "      <th>0</th>\n",
              "      <td>Pizza</td>\n",
              "      <td>Gucci</td>\n",
              "      <td>Slumdog</td>\n",
              "      <td>Platform</td>\n",
              "      <td>Ferrari</td>\n",
              "    </tr>\n",
              "    <tr>\n",
              "      <th>1</th>\n",
              "      <td>Burger</td>\n",
              "      <td>Prada</td>\n",
              "      <td>Mulan</td>\n",
              "      <td>Tennis</td>\n",
              "      <td>BMW</td>\n",
              "    </tr>\n",
              "    <tr>\n",
              "      <th>2</th>\n",
              "      <td>Steak</td>\n",
              "      <td>HNM</td>\n",
              "      <td>Moana</td>\n",
              "      <td>Sandals</td>\n",
              "      <td>Audi</td>\n",
              "    </tr>\n",
              "    <tr>\n",
              "      <th>3</th>\n",
              "      <td>Ice Cream</td>\n",
              "      <td>Zara</td>\n",
              "      <td>NaN</td>\n",
              "      <td>NaN</td>\n",
              "      <td>Bently</td>\n",
              "    </tr>\n",
              "  </tbody>\n",
              "</table>\n",
              "</div>"
            ],
            "text/plain": [
              "  Favorite Food FavoriteBrand Favorite Movies Favorite shoes Favorite Cars\n",
              "0         Pizza         Gucci         Slumdog       Platform       Ferrari\n",
              "1        Burger         Prada           Mulan         Tennis           BMW\n",
              "2         Steak           HNM           Moana        Sandals          Audi\n",
              "3     Ice Cream          Zara             NaN            NaN        Bently"
            ]
          },
          "metadata": {
            "tags": []
          },
          "execution_count": 33
        }
      ]
    },
    {
      "cell_type": "code",
      "metadata": {
        "id": "BmFcWxcDu92J",
        "colab_type": "code",
        "colab": {
          "base_uri": "https://localhost:8080/",
          "height": 173
        },
        "outputId": "d7b7f7b8-5a88-42f6-ca6a-ac0783dfcaec"
      },
      "source": [
        "NEWTOTALDATA.fillna(0)"
      ],
      "execution_count": 34,
      "outputs": [
        {
          "output_type": "execute_result",
          "data": {
            "text/html": [
              "<div>\n",
              "<style scoped>\n",
              "    .dataframe tbody tr th:only-of-type {\n",
              "        vertical-align: middle;\n",
              "    }\n",
              "\n",
              "    .dataframe tbody tr th {\n",
              "        vertical-align: top;\n",
              "    }\n",
              "\n",
              "    .dataframe thead th {\n",
              "        text-align: right;\n",
              "    }\n",
              "</style>\n",
              "<table border=\"1\" class=\"dataframe\">\n",
              "  <thead>\n",
              "    <tr style=\"text-align: right;\">\n",
              "      <th></th>\n",
              "      <th>Favorite Food</th>\n",
              "      <th>FavoriteBrand</th>\n",
              "      <th>Favorite Movies</th>\n",
              "      <th>Favorite shoes</th>\n",
              "      <th>Favorite Cars</th>\n",
              "    </tr>\n",
              "  </thead>\n",
              "  <tbody>\n",
              "    <tr>\n",
              "      <th>0</th>\n",
              "      <td>Pizza</td>\n",
              "      <td>Gucci</td>\n",
              "      <td>Slumdog</td>\n",
              "      <td>Platform</td>\n",
              "      <td>Ferrari</td>\n",
              "    </tr>\n",
              "    <tr>\n",
              "      <th>1</th>\n",
              "      <td>Burger</td>\n",
              "      <td>Prada</td>\n",
              "      <td>Mulan</td>\n",
              "      <td>Tennis</td>\n",
              "      <td>BMW</td>\n",
              "    </tr>\n",
              "    <tr>\n",
              "      <th>2</th>\n",
              "      <td>Steak</td>\n",
              "      <td>HNM</td>\n",
              "      <td>Moana</td>\n",
              "      <td>Sandals</td>\n",
              "      <td>Audi</td>\n",
              "    </tr>\n",
              "    <tr>\n",
              "      <th>3</th>\n",
              "      <td>Ice Cream</td>\n",
              "      <td>Zara</td>\n",
              "      <td>0</td>\n",
              "      <td>0</td>\n",
              "      <td>Bently</td>\n",
              "    </tr>\n",
              "  </tbody>\n",
              "</table>\n",
              "</div>"
            ],
            "text/plain": [
              "  Favorite Food FavoriteBrand Favorite Movies Favorite shoes Favorite Cars\n",
              "0         Pizza         Gucci         Slumdog       Platform       Ferrari\n",
              "1        Burger         Prada           Mulan         Tennis           BMW\n",
              "2         Steak           HNM           Moana        Sandals          Audi\n",
              "3     Ice Cream          Zara               0              0        Bently"
            ]
          },
          "metadata": {
            "tags": []
          },
          "execution_count": 34
        }
      ]
    },
    {
      "cell_type": "code",
      "metadata": {
        "id": "2AFykBSUvHTc",
        "colab_type": "code",
        "colab": {
          "base_uri": "https://localhost:8080/",
          "height": 173
        },
        "outputId": "d9768624-878d-4a33-ff5d-ab328cb82705"
      },
      "source": [
        "NEWTOTALDATA.fillna(\"\") #quickest way to replace Null/Nan values"
      ],
      "execution_count": 35,
      "outputs": [
        {
          "output_type": "execute_result",
          "data": {
            "text/html": [
              "<div>\n",
              "<style scoped>\n",
              "    .dataframe tbody tr th:only-of-type {\n",
              "        vertical-align: middle;\n",
              "    }\n",
              "\n",
              "    .dataframe tbody tr th {\n",
              "        vertical-align: top;\n",
              "    }\n",
              "\n",
              "    .dataframe thead th {\n",
              "        text-align: right;\n",
              "    }\n",
              "</style>\n",
              "<table border=\"1\" class=\"dataframe\">\n",
              "  <thead>\n",
              "    <tr style=\"text-align: right;\">\n",
              "      <th></th>\n",
              "      <th>Favorite Food</th>\n",
              "      <th>FavoriteBrand</th>\n",
              "      <th>Favorite Movies</th>\n",
              "      <th>Favorite shoes</th>\n",
              "      <th>Favorite Cars</th>\n",
              "    </tr>\n",
              "  </thead>\n",
              "  <tbody>\n",
              "    <tr>\n",
              "      <th>0</th>\n",
              "      <td>Pizza</td>\n",
              "      <td>Gucci</td>\n",
              "      <td>Slumdog</td>\n",
              "      <td>Platform</td>\n",
              "      <td>Ferrari</td>\n",
              "    </tr>\n",
              "    <tr>\n",
              "      <th>1</th>\n",
              "      <td>Burger</td>\n",
              "      <td>Prada</td>\n",
              "      <td>Mulan</td>\n",
              "      <td>Tennis</td>\n",
              "      <td>BMW</td>\n",
              "    </tr>\n",
              "    <tr>\n",
              "      <th>2</th>\n",
              "      <td>Steak</td>\n",
              "      <td>HNM</td>\n",
              "      <td>Moana</td>\n",
              "      <td>Sandals</td>\n",
              "      <td>Audi</td>\n",
              "    </tr>\n",
              "    <tr>\n",
              "      <th>3</th>\n",
              "      <td>Ice Cream</td>\n",
              "      <td>Zara</td>\n",
              "      <td></td>\n",
              "      <td></td>\n",
              "      <td>Bently</td>\n",
              "    </tr>\n",
              "  </tbody>\n",
              "</table>\n",
              "</div>"
            ],
            "text/plain": [
              "  Favorite Food FavoriteBrand Favorite Movies Favorite shoes Favorite Cars\n",
              "0         Pizza         Gucci         Slumdog       Platform       Ferrari\n",
              "1        Burger         Prada           Mulan         Tennis           BMW\n",
              "2         Steak           HNM           Moana        Sandals          Audi\n",
              "3     Ice Cream          Zara                                       Bently"
            ]
          },
          "metadata": {
            "tags": []
          },
          "execution_count": 35
        }
      ]
    },
    {
      "cell_type": "code",
      "metadata": {
        "id": "USfK6TFYvbcL",
        "colab_type": "code",
        "colab": {
          "base_uri": "https://localhost:8080/",
          "height": 34
        },
        "outputId": "3b55892e-5f66-4fcf-cb6d-42b31ecc670f"
      },
      "source": [
        "import base64\n",
        "from IPython.display import HTML\n",
        "\n",
        "def create_download_link( df3, title = \"Download CSV file\", filename = \"Structured.csv\"):\n",
        "    csv = NEWTOTALDATA.to_csv()\n",
        "    b64 = base64.b64encode(csv.encode())\n",
        "    payload = b64.decode()\n",
        "    html = '<a download=\"{filename}\" href=\"data : text/csv;base64,{payload}\" target=\"_blank\">{title}</a>'\n",
        "    html = html.format(payload=payload,title=title,filename=filename)\n",
        "    return HTML(html)\n",
        "\n",
        "create_download_link(NEWTOTALDATA)"
      ],
      "execution_count": 38,
      "outputs": [
        {
          "output_type": "execute_result",
          "data": {
            "text/html": [
              "<a download=\"Structured.csv\" href=\"data : text/csv;base64,LEZhdm9yaXRlIEZvb2QsRmF2b3JpdGVCcmFuZCxGYXZvcml0ZSBNb3ZpZXMsRmF2b3JpdGUgc2hvZXMsRmF2b3JpdGUgQ2FycwowLFBpenphLEd1Y2NpLFNsdW1kb2csUGxhdGZvcm0sRmVycmFyaQoxLEJ1cmdlcixQcmFkYSxNdWxhbixUZW5uaXMsQk1XCjIsU3RlYWssSE5NLE1vYW5hLFNhbmRhbHMsQXVkaQozLEljZSBDcmVhbSxaYXJhLCwsQmVudGx5Cg==\" target=\"_blank\">Download CSV file</a>"
            ],
            "text/plain": [
              "<IPython.core.display.HTML object>"
            ]
          },
          "metadata": {
            "tags": []
          },
          "execution_count": 38
        }
      ]
    }
  ]
}